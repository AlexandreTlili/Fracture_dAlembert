{
 "cells": [
  {
   "cell_type": "code",
   "execution_count": null,
   "metadata": {},
   "outputs": [],
   "source": [
    "import os\n",
    "\n",
    "import numpy as np\n",
    "import matplotlib.pyplot as plt\n",
    "import scipy.interpolate as interp\n",
    "\n",
    "import time_to_H"
   ]
  },
  {
   "cell_type": "code",
   "execution_count": null,
   "metadata": {},
   "outputs": [],
   "source": [
    "# Read data\n",
    "\n",
    "folder_fields = \"/media/anais/Data/Alexandre/data/CCGM_500um_375nm_45uN_100Pa_h_1cm_m_93g/muDIC\"\n",
    "\n",
    "dt_camera = 0.1\n",
    "\n",
    "frames_true = np.load(os.path.join(folder_fields, \"frames.npy\"))\n",
    "coords = np.load(os.path.join(folder_fields, \"coords.npy\"))\n",
    "strain = np.load(os.path.join(folder_fields, \"true_strain.npy\"))\n",
    "\n",
    "times_true = dt_camera * frames_true\n",
    "height_calib = time_to_H.time_to_H(times_true)\n",
    "\n",
    "with open(os.path.join(folder_fields, 'params.txt')) as file:\n",
    "    params = file.read()"
   ]
  },
  {
   "cell_type": "code",
   "execution_count": null,
   "metadata": {},
   "outputs": [],
   "source": [
    "# Data shape\n",
    "\n",
    "print(f\"Frames computed: {frames_true.tolist()}\")\n",
    "print(f\"Coords of shape {coords.shape} -> (useless, x or y, x_elem, y_elem, frame)\")\n",
    "print(f\"Strain of shape {strain.shape} -> (useless, ?, ?, x_elem, y_elem, frame)\")"
   ]
  },
  {
   "cell_type": "code",
   "execution_count": null,
   "metadata": {},
   "outputs": [],
   "source": [
    "# Plot the strain\n",
    "\n",
    "frame_index = -1\n",
    "frame_true = frames_true[frame_index]\n",
    "\n",
    "x0 = coords[0,0,:,:,0]\n",
    "y0 = coords[0,1,:,:,0]\n",
    "\n",
    "strain_toPlot = strain[0,0,0,:,:,frame_index]\n",
    "\n",
    "fig, ax = plt.subplots()\n",
    "ax.set_title(f\"Strain [frame {frame_true}]\")\n",
    "\n",
    "im = ax.contourf(x0, y0, strain_toPlot, levels=100)\n",
    "fig.colorbar(im, ax=ax, label=\"Stain\")\n",
    "\n",
    "ax.set_xlabel('Position x [pix]')\n",
    "ax.set_ylabel('Position y [pix]')\n",
    "\n",
    "plt.show()"
   ]
  },
  {
   "cell_type": "code",
   "execution_count": null,
   "metadata": {},
   "outputs": [],
   "source": [
    "# Plot the strain along given lines\n",
    "\n",
    "y_pix_list = [800, 1000, 1200, 1400]\n",
    "\n",
    "# Find nearest element for each y_pix\n",
    "y_elem_list = []\n",
    "for y_pix in y_pix_list:\n",
    "    y_elem = np.argmin(np.abs(y_pix - y[y.shape[0]//2,:]))\n",
    "    y_elem_list.append(y_elem)\n",
    "\n",
    "# Plot\n",
    "fig, ax = plt.subplots(tight_layout=True)\n",
    "\n",
    "for y_pix, y_elem in zip(y_pix_list, y_elem_list):\n",
    "    ax.plot(x0[:,y_elem], strain_toPlot[:,y_elem], label=f'y_pix = {y_pix}')\n",
    "\n",
    "ax.legend()\n",
    "\n",
    "plt.show()"
   ]
  },
  {
   "cell_type": "markdown",
   "metadata": {},
   "source": [
    "## True strain, with removed calibration"
   ]
  },
  {
   "cell_type": "code",
   "execution_count": null,
   "metadata": {},
   "outputs": [],
   "source": [
    "# Read calibration\n",
    "\n",
    "pathCalibration = \"/media/anais/Data/Alexandre/data/Calibrations/Calibration_top_grey/muDIC\"\n",
    "\n",
    "dt_camera_calib = 0.1\n",
    "\n",
    "frames_true_calib = np.load(os.path.join(pathCalibration, \"frames.npy\"))\n",
    "coords_calib = np.load(os.path.join(pathCalibration, \"coords.npy\"))\n",
    "strain_calib = np.load(os.path.join(pathCalibration, \"true_strain.npy\"))\n",
    "\n",
    "times_true_calib = dt_camera_calib * frames_true_calib\n",
    "height_calib = time_to_H.time_to_H(times_true_calib)\n"
   ]
  },
  {
   "cell_type": "code",
   "execution_count": null,
   "metadata": {},
   "outputs": [],
   "source": [
    "# Print shapes\n",
    "\n",
    "print(f\"Frames: {frames_true_calib.shape}\")\n",
    "print(f\"Coords: {coords_calib.shape}\")\n",
    "print(f\"Strain: {strain_calib.shape}\")"
   ]
  },
  {
   "cell_type": "code",
   "execution_count": null,
   "metadata": {},
   "outputs": [],
   "source": [
    "# Average along x\n",
    "\n",
    "strain_calib_xx = strain_calib[0,0,0,:,:,:].mean(axis=1)\n",
    "x0_calib = coords_calib[0,0,:,:,0].mean(axis=1)\n",
    "\n",
    "print(strain_calib_xx.shape, x0_calib.shape)\n",
    "\n",
    "plot = True\n",
    "\n",
    "if plot:\n",
    "\n",
    "    fig, ax = plt.subplots()\n",
    "\n",
    "    ax.plot(x0_calib, strain_calib_xx[:,::10])\n",
    "\n",
    "    plt.show()"
   ]
  },
  {
   "cell_type": "code",
   "execution_count": null,
   "metadata": {},
   "outputs": [],
   "source": [
    "# Create interpolator (x0 [pix], time) ->  strain_calib\n",
    "\n",
    "# Strain\n",
    "strain_calib_interp = interp.RegularGridInterpolator((x0_calib, times_true_calib), strain_calib_xx, \n",
    "                                              bounds_error=False, fill_value=None)\n",
    "\n",
    "strainPrev_calib_xx = np.gradient(strain_calib_xx, axis=1)\n",
    "strainPrev_calib_interp = interp.RegularGridInterpolator((x0_calib, times_true_calib), strainPrev_calib_xx, \n",
    "                                              bounds_error=False, fill_value=None)\n",
    "\n",
    "strainRate_calib_xx = np.gradient(strain_calib_xx, times_true_calib, axis=1)\n",
    "strainRate_calib_interp = interp.RegularGridInterpolator((x0_calib, times_true_calib), strainRate_calib_xx, \n",
    "                                              bounds_error=False, fill_value=None)"
   ]
  },
  {
   "cell_type": "code",
   "execution_count": null,
   "metadata": {},
   "outputs": [],
   "source": [
    "# Test interpolation\n",
    "\n",
    "x0_plot_ = np.linspace(400, 1900, 100)\n",
    "times_true_plot_ = np.linspace(0, 50, 10)\n",
    "\n",
    "x0_plot, times_true_plot = np.meshgrid(x0_plot_, times_true_plot_, indexing='ij')\n",
    "\n",
    "strain_from_interp = strain_calib_interp((x0_plot.flatten(), times_true_plot.flatten())).reshape(x0_plot.shape)\n",
    "strainRate_from_interp = strainRate_calib_interp((x0_plot.flatten(), times_true_plot.flatten())).reshape(x0_plot.shape)\n",
    "\n",
    "fig, ax = plt.subplots(figsize=(11,5), ncols=2)\n",
    "\n",
    "ax[0].plot(x0_plot_, strain_from_interp)\n",
    "ax[1].plot(x0_plot_, strainRate_from_interp)\n",
    "\n",
    "ax[0].set_title(\"Strain global\")\n",
    "ax[1].set_title(\"Strain rate\")\n",
    "\n",
    "plt.show()\n"
   ]
  },
  {
   "cell_type": "code",
   "execution_count": null,
   "metadata": {},
   "outputs": [],
   "source": [
    "# Plot strain with calibration removed\n",
    "\n",
    "frame_index = -1\n",
    "frame_true = frames_true[frame_index]\n",
    "time_true = times_true[frame_index]\n",
    "\n",
    "print(time_true)\n",
    "\n",
    "x0 = coords[0,0,:,:,0]\n",
    "y0 = coords[0,1,:,:,0]\n",
    "\n",
    "strain_toPlot = strain[0,0,0,:,:,frame_index]\n",
    "\n",
    "# Remove calibration from strain_toPlot\n",
    "x0_flat = x0.flatten()\n",
    "strain_visual = strain_calib_interp((x0_flat, np.full_like(x0_flat, time_true))).reshape(x0.shape)\n",
    "\n",
    "fig, ax = plt.subplots(figsize=(15,5), ncols=2)\n",
    "\n",
    "ax[0].set_title(f\"Strain raw [frame {frame_true}]\")\n",
    "ax[1].set_title(f\"Strain corrected [frame {frame_true}]\")\n",
    "\n",
    "im = ax[0].contourf(x0, y0, strain_toPlot)\n",
    "fig.colorbar(im, ax=ax[0], label=\"Stain\")\n",
    "\n",
    "im = ax[1].contourf(x0, y0, strain_toPlot - strain_visual)\n",
    "fig.colorbar(im, ax=ax[1], label=\"Stain\")\n",
    "\n",
    "for axi in ax:\n",
    "    axi.set_xlabel('Position x [pix]')\n",
    "    axi.set_ylabel('Position y [pix]')\n",
    "\n",
    "plt.show()"
   ]
  },
  {
   "cell_type": "code",
   "execution_count": null,
   "metadata": {},
   "outputs": [],
   "source": [
    "# Plot the strain along given lines\n",
    "\n",
    "y_pix_list = [800, 1000, 1200, 1400]\n",
    "\n",
    "# Find nearest element for each y_pix\n",
    "y_elem_list = []\n",
    "for y_pix in y_pix_list:\n",
    "    y_elem = np.argmin(np.abs(y_pix - y0[y0.shape[0]//2,:]))\n",
    "    y_elem_list.append(y_elem)\n",
    "\n",
    "# Plot\n",
    "fig, ax = plt.subplots(tight_layout=True)\n",
    "\n",
    "for y_pix, y_elem in zip(y_pix_list, y_elem_list):\n",
    "    # Remove calibration from strain_toPlot\n",
    "    strain_visual = strain_calib_interp((x0[:,y_elem], np.full_like(x0[:,y_elem], time_true)))\n",
    "\n",
    "    ax.plot(x0[:,y_elem], strain_toPlot[:,y_elem] - strain_visual, label=f'y_pix = {y_pix}')\n",
    "\n",
    "ax.legend()\n",
    "\n",
    "plt.show()"
   ]
  }
 ],
 "metadata": {
  "kernelspec": {
   "display_name": "DIC_Alex",
   "language": "python",
   "name": "python3"
  },
  "language_info": {
   "codemirror_mode": {
    "name": "ipython",
    "version": 3
   },
   "file_extension": ".py",
   "mimetype": "text/x-python",
   "name": "python",
   "nbconvert_exporter": "python",
   "pygments_lexer": "ipython3",
   "version": "3.7.16"
  }
 },
 "nbformat": 4,
 "nbformat_minor": 2
}
