{
 "cells": [
  {
   "cell_type": "code",
   "execution_count": null,
   "metadata": {},
   "outputs": [],
   "source": [
    "import os\n",
    "import numpy as np\n",
    "\n",
    "import matplotlib.pyplot as plt\n",
    "import matplotlib.animation as animation\n",
    "from IPython.display import HTML"
   ]
  },
  {
   "cell_type": "code",
   "execution_count": null,
   "metadata": {},
   "outputs": [],
   "source": [
    "# Read data\n",
    "\n",
    "folder_fields = \"../data/Calibrations/Calibration_top_grey/muDIC\"\n",
    "\n",
    "frames_true = np.load(os.path.join(folder_fields, \"frames.npy\"))\n",
    "coords = np.load(os.path.join(folder_fields, \"coords.npy\"))\n",
    "strain = np.load(os.path.join(folder_fields, \"true_strain.npy\"))\n",
    "\n",
    "with open(os.path.join(folder_fields, 'params.txt')) as file:\n",
    "    params = file.read()"
   ]
  },
  {
   "cell_type": "code",
   "execution_count": null,
   "metadata": {},
   "outputs": [],
   "source": [
    "# Data shape\n",
    "\n",
    "print(f\"Frames computed: {frames_true.tolist()}\")\n",
    "print(f\"Coords of shape {coords.shape} -> (useless, x or y, x_elem, y_elem, frame)\")\n",
    "print(f\"Strain of shape {strain.shape} -> (useless, ?, ?, x_elem, y_elem, frame)\")"
   ]
  },
  {
   "cell_type": "code",
   "execution_count": null,
   "metadata": {},
   "outputs": [],
   "source": [
    "# Plot one frame\n",
    "\n",
    "frame = -1\n",
    "frame_true = frames_true[frame]\n",
    "\n",
    "x = coords[0,0,:,:,frame]\n",
    "y = coords[0,1,:,:,frame]\n",
    "\n",
    "strain_toPlot = strain[0,0,0,:,:,frame]\n",
    "\n",
    "fig, ax = plt.subplots()\n",
    "ax.set_title(f\"Strain [frame {frame_true}]\")\n",
    "\n",
    "im = ax.contourf(x, y, strain_toPlot)\n",
    "fig.colorbar(im, ax=ax, label=\"Stain\")\n",
    "\n",
    "ax.set_xlabel('Position x [pix]')\n",
    "ax.set_ylabel('Position y [pix]')\n",
    "\n",
    "plt.show()"
   ]
  },
  {
   "cell_type": "code",
   "execution_count": null,
   "metadata": {},
   "outputs": [],
   "source": [
    "# Plot animation\n",
    "\n",
    "nbFrames = coords.shape[-1]\n",
    "frame_start = -1\n",
    "\n",
    "fig, ax = plt.subplots()\n",
    "\n",
    "# Set labels\n",
    "ax.set_title(f\"Strain [frame {frames_true[frame_start]}]\")\n",
    "ax.set_xlabel('Position x [pix]')\n",
    "ax.set_ylabel('Position y [pix]')\n",
    "\n",
    "# Set bounds\n",
    "xbounds = coords[0,0,:,0,:].min(), coords[0,0,:,0,:].max()\n",
    "ybounds = coords[0,1,:,0,:].min(), coords[0,1,0,:,:].max()\n",
    "ax.set_xbound(*xbounds)\n",
    "ax.set_ybound(*ybounds)\n",
    "\n",
    "# Set static cmap\n",
    "vmin, vmax = strain[0,0,0,:,:,1:].min(), strain[0,0,0,:,:,1:].max()\n",
    "norm = plt.Normalize(vmin, vmax)\n",
    "cmap = plt.get_cmap('viridis')\n",
    "n_levels = 100\n",
    "\n",
    "# Plot last frame\n",
    "x = coords[0,0,:,:,frame_start]\n",
    "y = coords[0,1,:,:,frame_start]\n",
    "strain_toPlot = strain[0,0,0,:,:,frame_start]\n",
    "\n",
    "cont = ax.contourf(x, y, strain_toPlot, levels=n_levels, cmap=cmap, norm=norm)\n",
    "fig.colorbar(cont, ax=ax, label=\"Strain\")\n",
    "\n",
    "\n",
    "def update(frame):\n",
    "    global cont\n",
    "\n",
    "    x = coords[0,0,:,:,frame]\n",
    "    y = coords[0,1,:,:,frame]\n",
    "    strain_toPlot = strain[0,0,0,:,:,frame]\n",
    "    \n",
    "    for c in cont.collections:\n",
    "        c.remove()  # removes only the contours, leaves the rest intact\n",
    "\n",
    "    cont = plt.contourf(x, y, strain_toPlot, levels=n_levels, cmap=cmap, norm=norm)\n",
    "\n",
    "    # Set limits and title\n",
    "    ax.set_title(f\"Strain [frame {frames_true[frame]}]\")\n",
    "    ax.set_xbound(*xbounds)\n",
    "    ax.set_ybound(*ybounds)\n",
    "    \n",
    "    return cont\n",
    "\n",
    "anim = animation.FuncAnimation(fig, update, frames=nbFrames, repeat=False, interval=100)\n",
    "anim_html = HTML(anim.to_html5_video())\n",
    "\n",
    "print(f\"{nbFrames} frames\")\n"
   ]
  },
  {
   "cell_type": "markdown",
   "metadata": {},
   "source": [
    "Question: Why is the x extend changing ??"
   ]
  },
  {
   "cell_type": "code",
   "execution_count": null,
   "metadata": {},
   "outputs": [],
   "source": [
    "# Display animation\n",
    "\n",
    "print(type(anim_html))\n",
    "anim_html"
   ]
  },
  {
   "cell_type": "code",
   "execution_count": null,
   "metadata": {},
   "outputs": [],
   "source": [
    "# Save animation\n",
    "\n",
    "savepath = os.path.join(folder_fields, \"animation_strain.html\")\n",
    "with open(savepath, 'w') as f:\n",
    "    f.write(anim_html.data)"
   ]
  }
 ],
 "metadata": {
  "kernelspec": {
   "display_name": "DIC_Alex",
   "language": "python",
   "name": "python3"
  },
  "language_info": {
   "codemirror_mode": {
    "name": "ipython",
    "version": 3
   },
   "file_extension": ".py",
   "mimetype": "text/x-python",
   "name": "python",
   "nbconvert_exporter": "python",
   "pygments_lexer": "ipython3",
   "version": "3.7.16"
  }
 },
 "nbformat": 4,
 "nbformat_minor": 2
}
