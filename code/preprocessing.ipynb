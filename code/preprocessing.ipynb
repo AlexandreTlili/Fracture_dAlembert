{
 "cells": [
  {
   "cell_type": "code",
   "execution_count": 1,
   "metadata": {},
   "outputs": [
    {
     "name": "stdout",
     "output_type": "stream",
     "text": [
      "Using matplotlib backend: Qt5Agg\n"
     ]
    }
   ],
   "source": [
    "import os\n",
    "\n",
    "import matplotlib.pyplot as plt\n",
    "import modules.preprocessing as preprocess\n",
    "\n",
    "from PIL import Image, ImageFilter\n",
    "import json\n",
    "import numpy as np\n",
    "\n",
    "%matplotlib"
   ]
  },
  {
   "cell_type": "code",
   "execution_count": 2,
   "metadata": {},
   "outputs": [
    {
     "data": {
      "text/plain": [
       "<module 'modules.preprocessing' from 'c:\\\\Alexandre\\\\M2 - IPP Sorbonne\\\\Project_fracture\\\\code\\\\modules\\\\preprocessing.py'>"
      ]
     },
     "execution_count": 2,
     "metadata": {},
     "output_type": "execute_result"
    }
   ],
   "source": [
    "from importlib import reload\n",
    "reload(preprocess)"
   ]
  },
  {
   "cell_type": "code",
   "execution_count": 3,
   "metadata": {},
   "outputs": [],
   "source": [
    "# Path\n",
    "\n",
    "folderPath = \"../data/h_1p5cm/tauC_115Pa/1_CCGM_500um_590nm_52uN_115Pa-h_1p5cm_m_134g\"\n",
    "frameToPlot = 500\n",
    "\n",
    "folder_rawSnapshots = os.path.join(folderPath, \"snapshots_raw\")\n",
    "folder_processed_snapshots = os.path.join(folderPath, \"snapshots_preProcessed\")\n",
    "\n",
    "assert os.path.isdir(folderPath)\n",
    "assert os.path.isdir(folder_rawSnapshots), \"Could not find raw snapshots\"\n",
    "assert os.path.isdir(folder_processed_snapshots), \"Folder preprocessed should be created\""
   ]
  },
  {
   "cell_type": "code",
   "execution_count": 4,
   "metadata": {},
   "outputs": [
    {
     "data": {
      "text/plain": [
       "['Basler_acA2440-75um__23178718__20240201_173049411_0000.tiff',\n",
       " 'Basler_acA2440-75um__23178718__20240201_173049411_0001.tiff',\n",
       " 'Basler_acA2440-75um__23178718__20240201_173049411_0002.tiff']"
      ]
     },
     "execution_count": 4,
     "metadata": {},
     "output_type": "execute_result"
    }
   ],
   "source": [
    "# Read all images\n",
    "\n",
    "frame_bounds = [0, 550]\n",
    "\n",
    "# Sort names\n",
    "frame_number = (lambda name: int(name[50:-5]))\n",
    "rawSnapshots_names = sorted([file for file in os.listdir(folder_rawSnapshots) \n",
    "                             if file[-5:]=='.tiff'], key=frame_number)\n",
    "\n",
    "# Only keep frames in bounds\n",
    "rawSnapshots_names = [name for name in rawSnapshots_names \n",
    "                      if (frame_bounds[0]<=frame_number(name)) and (frame_number(name)<=frame_bounds[1])]\n",
    "rawSnapshots_path = [os.path.join(folder_rawSnapshots, name) for name in rawSnapshots_names]\n",
    "\n",
    "rawSnapshots_names[:3]"
   ]
  },
  {
   "cell_type": "code",
   "execution_count": 5,
   "metadata": {},
   "outputs": [
    {
     "name": "stdout",
     "output_type": "stream",
     "text": [
      "{'xMin': 466.75381731239463, 'yMin': 381.43424985056754, 'xMax': 1963.5532521871435, 'yMax': 1427.5245612128456}\n"
     ]
    }
   ],
   "source": [
    "# Crop\n",
    "\n",
    "imageRef = Image.open(rawSnapshots_path[frameToPlot])\n",
    "\n",
    "crop_bounds = preprocess.cropBox_from_GUI(imageRef)\n",
    "cropped = preprocess.crop_from_coords(imageRef, **crop_bounds)\n",
    "cropped.show()\n",
    "\n",
    "print(crop_bounds)"
   ]
  },
  {
   "cell_type": "code",
   "execution_count": 6,
   "metadata": {},
   "outputs": [],
   "source": [
    "# Plot histogram intensity\n",
    "\n",
    "cropped_np = np.asarray(cropped).flatten()\n",
    "std = cropped_np.std()\n",
    "mean = cropped_np.mean()\n",
    "\n",
    "std_toPlot = mean + np.arange(-3, 4) * std\n",
    "\n",
    "fig, ax = plt.subplots()\n",
    "\n",
    "ax.hist(cropped_np, bins=100)\n",
    "for val in std_toPlot:\n",
    "    ax.axvline(val, c='k', ls=':')\n",
    "ax.axvline(mean, c='k', ls='-')\n",
    "\n",
    "\n",
    "plt.show()"
   ]
  },
  {
   "cell_type": "code",
   "execution_count": 7,
   "metadata": {},
   "outputs": [],
   "source": [
    "# Get offsets\n",
    "\n",
    "n_std_min, n_std_max = 1.5, 5\n",
    "\n",
    "param_contrast = preprocess.offset_scale_from_std(cropped, n_std_min=n_std_min, n_std_max=n_std_max)\n",
    "contrasted = preprocess.change_intensity(cropped, *param_contrast)\n",
    "contrasted.show()"
   ]
  },
  {
   "cell_type": "code",
   "execution_count": 8,
   "metadata": {},
   "outputs": [],
   "source": [
    "# Add gaussian blur\n",
    "\n",
    "radiusKernel = 0.5\n",
    "\n",
    "blurred = preprocess.gaussian_blur(contrasted, radiusKernel)\n",
    "blurred.show()"
   ]
  },
  {
   "cell_type": "code",
   "execution_count": 9,
   "metadata": {},
   "outputs": [],
   "source": [
    "# Crop and contrast every image\n",
    "\n",
    "blur = True\n",
    "nbFrames = len(rawSnapshots_names)\n",
    "\n",
    "for i in range(nbFrames):\n",
    "    image = Image.open(rawSnapshots_path[i])\n",
    "    cropped = preprocess.crop_from_coords(image, **crop_bounds)\n",
    "    contrasted = preprocess.change_intensity(cropped, *param_contrast)\n",
    "    if blur:\n",
    "        blurred = preprocess.gaussian_blur(contrasted, radiusKernel)\n",
    "        blurred.save(os.path.join(folder_processed_snapshots, f\"processed_{rawSnapshots_names[i]}\"))\n",
    "    else:\n",
    "        contrasted.save(os.path.join(folder_processed_snapshots, f\"processed_{rawSnapshots_names[i]}\"))\n"
   ]
  },
  {
   "cell_type": "code",
   "execution_count": 10,
   "metadata": {},
   "outputs": [],
   "source": [
    "# Save data\n",
    "\n",
    "savepath_dict = os.path.join(folder_processed_snapshots, \"params_preprocess.txt\")\n",
    "\n",
    "offset_contrast, scale_contrast = param_contrast\n",
    "dict_data = {\"offset_contrast\": offset_contrast, \"scale_contrast\": scale_contrast, \n",
    "             \"n_std_min\": n_std_min, \"n_std_max\": n_std_max, **crop_bounds}\n",
    "\n",
    "with open(savepath_dict, 'w') as f:\n",
    "    f.write(json.dumps(dict_data))"
   ]
  }
 ],
 "metadata": {
  "kernelspec": {
   "display_name": "DIC_Alex",
   "language": "python",
   "name": "python3"
  },
  "language_info": {
   "codemirror_mode": {
    "name": "ipython",
    "version": 3
   },
   "file_extension": ".py",
   "mimetype": "text/x-python",
   "name": "python",
   "nbconvert_exporter": "python",
   "pygments_lexer": "ipython3",
   "version": "3.7.16"
  }
 },
 "nbformat": 4,
 "nbformat_minor": 2
}
