{
 "cells": [
  {
   "cell_type": "code",
   "execution_count": null,
   "metadata": {},
   "outputs": [],
   "source": [
    "import os\n",
    "\n",
    "import matplotlib.pyplot\n",
    "import modules.preprocessing as preprocess\n",
    "\n",
    "from PIL import Image, ImageFilter\n",
    "from tqdm import tqdm\n",
    "import json\n",
    "\n",
    "%matplotlib"
   ]
  },
  {
   "cell_type": "code",
   "execution_count": null,
   "metadata": {},
   "outputs": [],
   "source": [
    "from importlib import reload\n",
    "reload(preprocess)"
   ]
  },
  {
   "cell_type": "code",
   "execution_count": null,
   "metadata": {},
   "outputs": [],
   "source": [
    "# Path\n",
    "\n",
    "folderPath = \"../data/testPolymer/withScotch\"\n",
    "frameToPlot = 250\n",
    "\n",
    "folder_rawSnapshots = os.path.join(folderPath, \"snapshots\")\n",
    "folder_processed_snapshots = os.path.join(folderPath, \"snapshots_preProcessed\")\n",
    "\n",
    "assert os.path.isdir(folderPath)\n",
    "assert os.path.isdir(folder_rawSnapshots), \"Could not find raw snapshots\"\n",
    "assert os.path.isdir(folder_processed_snapshots), \"Folder preprocessed should be created\""
   ]
  },
  {
   "cell_type": "code",
   "execution_count": null,
   "metadata": {},
   "outputs": [],
   "source": [
    "# Read all images\n",
    "\n",
    "frame_bounds = [0, 300]\n",
    "\n",
    "# Sort names\n",
    "frame_number = (lambda name: int(name[50:-5]))\n",
    "rawSnapshots_names = sorted([file for file in os.listdir(folder_rawSnapshots) \n",
    "                             if file[-5:]=='.tiff'], key=frame_number)\n",
    "\n",
    "# Only keep frames in bounds\n",
    "rawSnapshots_names = [name for name in rawSnapshots_names \n",
    "                      if (frame_bounds[0]<=frame_number(name)) and (frame_number(name)<=frame_bounds[1])]\n",
    "rawSnapshots_path = [os.path.join(folder_rawSnapshots, name) for name in rawSnapshots_names]\n",
    "\n",
    "rawSnapshots_names[:3]"
   ]
  },
  {
   "cell_type": "code",
   "execution_count": null,
   "metadata": {},
   "outputs": [],
   "source": [
    "# Crop\n",
    "\n",
    "imageRef = Image.open(rawSnapshots_path[frameToPlot])\n",
    "\n",
    "crop_bounds = preprocess.cropBox_from_GUI(imageRef)\n",
    "cropped = preprocess.crop_from_coords(imageRef, **crop_bounds)\n",
    "cropped.show()\n",
    "\n",
    "print(crop_bounds)"
   ]
  },
  {
   "cell_type": "code",
   "execution_count": null,
   "metadata": {},
   "outputs": [],
   "source": [
    "# Get offsets\n",
    "\n",
    "n_std_min, n_std_max = 2.5, 2.5\n",
    "\n",
    "param_contrast = preprocess.offset_scale_from_std(cropped, n_std_min=n_std_min, n_std_max=n_std_max)\n",
    "contrasted = preprocess.change_intensity(cropped, *param_contrast)\n",
    "contrasted.show()"
   ]
  },
  {
   "cell_type": "code",
   "execution_count": null,
   "metadata": {},
   "outputs": [],
   "source": [
    "# Crop and contrast every image\n",
    "\n",
    "nbFrames = len(rawSnapshots_names)\n",
    "\n",
    "for i in tqdm(range(nbFrames)):\n",
    "    image = Image.open(rawSnapshots_path[i])\n",
    "    cropped = preprocess.crop_from_coords(image, **crop_bounds)\n",
    "    contrasted = preprocess.change_intensity(cropped, *param_contrast)\n",
    "    contrasted.save(os.path.join(folder_processed_snapshots, f\"processed_{rawSnapshots_names[i]}\"))\n"
   ]
  },
  {
   "cell_type": "code",
   "execution_count": null,
   "metadata": {},
   "outputs": [],
   "source": [
    "# Save data\n",
    "\n",
    "savepath_dict = os.path.join(folder_processed_snapshots, \"params_preprocess.txt\")\n",
    "\n",
    "offset_contrast, scale_contrast = param_contrast\n",
    "dict_data = {\"offset_contrast\": offset_contrast, \"scale_contrast\": scale_contrast, \n",
    "             \"n_std_min\": n_std_min, \"n_std_max\": n_std_max, **crop_bounds}\n",
    "\n",
    "with open(savepath_dict, 'w') as f:\n",
    "    f.write(json.dumps(dict_data))"
   ]
  }
 ],
 "metadata": {
  "kernelspec": {
   "display_name": "DIC_Alex",
   "language": "python",
   "name": "python3"
  },
  "language_info": {
   "codemirror_mode": {
    "name": "ipython",
    "version": 3
   },
   "file_extension": ".py",
   "mimetype": "text/x-python",
   "name": "python",
   "nbconvert_exporter": "python",
   "pygments_lexer": "ipython3",
   "version": "3.7.16"
  }
 },
 "nbformat": 4,
 "nbformat_minor": 2
}
